{
 "cells": [
  {
   "cell_type": "code",
   "execution_count": 10,
   "id": "3e30743a",
   "metadata": {},
   "outputs": [],
   "source": [
    "import numpy as np\n",
    "import pandas as pd\n",
    "import tensorflow as tf\n",
    "import matplotlib.pyplot as plt\n",
    "from tensorflow import keras"
   ]
  },
  {
   "cell_type": "code",
   "execution_count": 2,
   "id": "d65c84af",
   "metadata": {},
   "outputs": [],
   "source": [
    "from tensorflow.keras.preprocessing.image import ImageDataGenerator\n",
    "gen_train=ImageDataGenerator(rescale=1/255,shear_range=0.2,zoom_range=0.2,brightness_range=(0.1,0.5),horizontal_flip=True,validation_split=0.2)"
   ]
  },
  {
   "cell_type": "code",
   "execution_count": 3,
   "id": "748ab739",
   "metadata": {},
   "outputs": [
    {
     "name": "stdout",
     "output_type": "stream",
     "text": [
      "Found 1131 images belonging to 2 classes.\n"
     ]
    }
   ],
   "source": [
    "train_generator = gen_train.flow_from_directory(\n",
    "    \"C:/Users/Dhruv Sanghvi/Desktop/glaucoma cnn/data\",\n",
    "\n",
    "    class_mode='categorical'\n",
    ")"
   ]
  },
  {
   "cell_type": "code",
   "execution_count": 4,
   "id": "aa8f9c8e",
   "metadata": {},
   "outputs": [
    {
     "name": "stdout",
     "output_type": "stream",
     "text": [
      "Found 103 images belonging to 2 classes.\n"
     ]
    }
   ],
   "source": [
    "validation_generator = gen_train.flow_from_directory(\n",
    "    \"C:/Users/Dhruv Sanghvi/Desktop/glaucoma cnn/dataset\",\n",
    "    class_mode='categorical',\n",
    "    subset='validation'  \n",
    ")\n",
    "\n",
    "\n",
    "\n",
    "\n",
    "\n"
   ]
  },
  {
   "cell_type": "code",
   "execution_count": 5,
   "id": "0980d049",
   "metadata": {},
   "outputs": [],
   "source": [
    "from tensorflow.keras.applications.vgg16 import VGG16\n",
    "vgg16=VGG16(input_shape=(224,224,3),weights='imagenet',include_top=False)"
   ]
  },
  {
   "cell_type": "code",
   "execution_count": 6,
   "id": "d133ee3d",
   "metadata": {},
   "outputs": [],
   "source": [
    "for layer in vgg16.layers:\n",
    "    layer.trainable=False\n"
   ]
  },
  {
   "cell_type": "code",
   "execution_count": 7,
   "id": "5d5dd5ba",
   "metadata": {},
   "outputs": [],
   "source": [
    "from tensorflow.keras import layers"
   ]
  },
  {
   "cell_type": "code",
   "execution_count": 8,
   "id": "e4068c22",
   "metadata": {},
   "outputs": [],
   "source": [
    "x=layers.GlobalAveragePooling2D()(vgg16.output)"
   ]
  },
  {
   "cell_type": "code",
   "execution_count": 11,
   "id": "9a2446f7",
   "metadata": {},
   "outputs": [],
   "source": [
    "hidden1 = layers.Dense(units=64, activation='relu')(x)\n",
    "\n",
    "\n",
    "hidden2 = layers.Dense(units=32, activation='relu')(hidden1)\n",
    "\n",
    "\n",
    "hidden3 = layers.Dense(units=16, activation='relu')(hidden2)\n",
    "\n",
    "\n",
    "output = layers.Dense(units=2, activation='sigmoid')(hidden3)\n",
    "\n",
    "\n",
    "model = keras.Model(inputs=x, outputs=output)"
   ]
  },
  {
   "cell_type": "code",
   "execution_count": 13,
   "id": "ffc40b4f",
   "metadata": {},
   "outputs": [
    {
     "name": "stdout",
     "output_type": "stream",
     "text": [
      "Model: \"model_1\"\n",
      "_________________________________________________________________\n",
      " Layer (type)                Output Shape              Param #   \n",
      "=================================================================\n",
      " input_1 (InputLayer)        [(None, 224, 224, 3)]     0         \n",
      "                                                                 \n",
      " block1_conv1 (Conv2D)       (None, 224, 224, 64)      1792      \n",
      "                                                                 \n",
      " block1_conv2 (Conv2D)       (None, 224, 224, 64)      36928     \n",
      "                                                                 \n",
      " block1_pool (MaxPooling2D)  (None, 112, 112, 64)      0         \n",
      "                                                                 \n",
      " block2_conv1 (Conv2D)       (None, 112, 112, 128)     73856     \n",
      "                                                                 \n",
      " block2_conv2 (Conv2D)       (None, 112, 112, 128)     147584    \n",
      "                                                                 \n",
      " block2_pool (MaxPooling2D)  (None, 56, 56, 128)       0         \n",
      "                                                                 \n",
      " block3_conv1 (Conv2D)       (None, 56, 56, 256)       295168    \n",
      "                                                                 \n",
      " block3_conv2 (Conv2D)       (None, 56, 56, 256)       590080    \n",
      "                                                                 \n",
      " block3_conv3 (Conv2D)       (None, 56, 56, 256)       590080    \n",
      "                                                                 \n",
      " block3_pool (MaxPooling2D)  (None, 28, 28, 256)       0         \n",
      "                                                                 \n",
      " block4_conv1 (Conv2D)       (None, 28, 28, 512)       1180160   \n",
      "                                                                 \n",
      " block4_conv2 (Conv2D)       (None, 28, 28, 512)       2359808   \n",
      "                                                                 \n",
      " block4_conv3 (Conv2D)       (None, 28, 28, 512)       2359808   \n",
      "                                                                 \n",
      " block4_pool (MaxPooling2D)  (None, 14, 14, 512)       0         \n",
      "                                                                 \n",
      " block5_conv1 (Conv2D)       (None, 14, 14, 512)       2359808   \n",
      "                                                                 \n",
      " block5_conv2 (Conv2D)       (None, 14, 14, 512)       2359808   \n",
      "                                                                 \n",
      " block5_conv3 (Conv2D)       (None, 14, 14, 512)       2359808   \n",
      "                                                                 \n",
      " block5_pool (MaxPooling2D)  (None, 7, 7, 512)         0         \n",
      "                                                                 \n",
      " global_average_pooling2d (  (None, 512)               0         \n",
      " GlobalAveragePooling2D)                                         \n",
      "                                                                 \n",
      " dense_4 (Dense)             (None, 64)                32832     \n",
      "                                                                 \n",
      " dense_5 (Dense)             (None, 32)                2080      \n",
      "                                                                 \n",
      " dense_6 (Dense)             (None, 16)                528       \n",
      "                                                                 \n",
      " dense_7 (Dense)             (None, 2)                 34        \n",
      "                                                                 \n",
      "=================================================================\n",
      "Total params: 14750162 (56.27 MB)\n",
      "Trainable params: 35474 (138.57 KB)\n",
      "Non-trainable params: 14714688 (56.13 MB)\n",
      "_________________________________________________________________\n"
     ]
    }
   ],
   "source": [
    "model=tf.keras.models.Model(inputs=vgg16.input, outputs=output)\n",
    "model.summary()"
   ]
  },
  {
   "cell_type": "code",
   "execution_count": 14,
   "id": "4eddc97d",
   "metadata": {},
   "outputs": [
    {
     "name": "stdout",
     "output_type": "stream",
     "text": [
      "Epoch 1/28\n",
      "36/36 [==============================] - 223s 6s/step - loss: 0.6556 - accuracy: 0.6481 - val_loss: 1.0547 - val_accuracy: 0.1165\n",
      "Epoch 2/28\n",
      "36/36 [==============================] - 195s 5s/step - loss: 0.6078 - accuracy: 0.7029 - val_loss: 0.9876 - val_accuracy: 0.1165\n",
      "Epoch 3/28\n",
      "36/36 [==============================] - 195s 5s/step - loss: 0.6062 - accuracy: 0.7029 - val_loss: 0.8560 - val_accuracy: 0.1165\n",
      "Epoch 4/28\n",
      "36/36 [==============================] - 196s 5s/step - loss: 0.6050 - accuracy: 0.7029 - val_loss: 0.9462 - val_accuracy: 0.1165\n",
      "Epoch 5/28\n",
      "36/36 [==============================] - 201s 6s/step - loss: 0.6032 - accuracy: 0.7029 - val_loss: 0.8962 - val_accuracy: 0.1165\n",
      "Epoch 6/28\n",
      "36/36 [==============================] - 204s 6s/step - loss: 0.6050 - accuracy: 0.7029 - val_loss: 0.9462 - val_accuracy: 0.1165\n",
      "Epoch 7/28\n",
      "36/36 [==============================] - 216s 6s/step - loss: 0.6034 - accuracy: 0.7029 - val_loss: 1.0206 - val_accuracy: 0.1165\n",
      "Epoch 8/28\n",
      "36/36 [==============================] - 4443s 127s/step - loss: 0.6028 - accuracy: 0.7029 - val_loss: 0.8955 - val_accuracy: 0.1165\n",
      "Epoch 9/28\n",
      "36/36 [==============================] - 179s 5s/step - loss: 0.6017 - accuracy: 0.7029 - val_loss: 0.8907 - val_accuracy: 0.1165\n",
      "Epoch 10/28\n",
      "36/36 [==============================] - 194s 5s/step - loss: 0.6004 - accuracy: 0.7029 - val_loss: 1.2454 - val_accuracy: 0.1165\n",
      "Epoch 11/28\n",
      "36/36 [==============================] - 198s 6s/step - loss: 0.5963 - accuracy: 0.7029 - val_loss: 0.9510 - val_accuracy: 0.1165\n",
      "Epoch 12/28\n",
      "36/36 [==============================] - 195s 5s/step - loss: 0.5980 - accuracy: 0.7029 - val_loss: 0.8274 - val_accuracy: 0.1165\n",
      "Epoch 13/28\n",
      "36/36 [==============================] - 217s 6s/step - loss: 0.6045 - accuracy: 0.7029 - val_loss: 1.0245 - val_accuracy: 0.1165\n",
      "Epoch 14/28\n",
      "36/36 [==============================] - 195s 5s/step - loss: 0.5992 - accuracy: 0.7029 - val_loss: 0.9612 - val_accuracy: 0.1165\n",
      "Epoch 15/28\n",
      "36/36 [==============================] - 193s 5s/step - loss: 0.6008 - accuracy: 0.7029 - val_loss: 0.9081 - val_accuracy: 0.1165\n",
      "Epoch 16/28\n",
      "36/36 [==============================] - 160s 4s/step - loss: 0.5979 - accuracy: 0.7029 - val_loss: 0.9956 - val_accuracy: 0.1165\n",
      "Epoch 17/28\n",
      "36/36 [==============================] - 1155s 33s/step - loss: 0.5973 - accuracy: 0.7029 - val_loss: 0.9225 - val_accuracy: 0.1165\n",
      "Epoch 18/28\n",
      "36/36 [==============================] - 160s 4s/step - loss: 0.5956 - accuracy: 0.7029 - val_loss: 0.9956 - val_accuracy: 0.1165\n",
      "Epoch 19/28\n",
      "36/36 [==============================] - 255s 7s/step - loss: 0.5953 - accuracy: 0.7029 - val_loss: 0.9156 - val_accuracy: 0.1165\n",
      "Epoch 20/28\n",
      "36/36 [==============================] - 184s 5s/step - loss: 0.6021 - accuracy: 0.7029 - val_loss: 1.0011 - val_accuracy: 0.1165\n",
      "Epoch 21/28\n",
      "36/36 [==============================] - 182s 5s/step - loss: 0.5914 - accuracy: 0.7029 - val_loss: 0.8936 - val_accuracy: 0.1165\n",
      "Epoch 22/28\n",
      "36/36 [==============================] - 149s 4s/step - loss: 0.5968 - accuracy: 0.7029 - val_loss: 0.9063 - val_accuracy: 0.1165\n",
      "Epoch 23/28\n",
      "36/36 [==============================] - 148s 4s/step - loss: 0.5937 - accuracy: 0.7029 - val_loss: 0.9706 - val_accuracy: 0.1165\n",
      "Epoch 24/28\n",
      "36/36 [==============================] - 146s 4s/step - loss: 0.5991 - accuracy: 0.7029 - val_loss: 1.1123 - val_accuracy: 0.1165\n",
      "Epoch 25/28\n",
      "36/36 [==============================] - 253s 7s/step - loss: 0.5993 - accuracy: 0.7029 - val_loss: 0.9532 - val_accuracy: 0.1165\n",
      "Epoch 26/28\n",
      "36/36 [==============================] - 349s 10s/step - loss: 0.5946 - accuracy: 0.7029 - val_loss: 1.0328 - val_accuracy: 0.1165\n",
      "Epoch 27/28\n",
      "36/36 [==============================] - 299s 8s/step - loss: 0.5945 - accuracy: 0.7029 - val_loss: 0.8516 - val_accuracy: 0.1165\n",
      "Epoch 28/28\n",
      "36/36 [==============================] - 326s 9s/step - loss: 0.5950 - accuracy: 0.7029 - val_loss: 0.9585 - val_accuracy: 0.1165\n"
     ]
    }
   ],
   "source": [
    "model.compile(optimizer=\"adam\",loss=\"categorical_crossentropy\",metrics=['accuracy'])\n",
    "history = model.fit(\n",
    "    train_generator,\n",
    "    epochs=28,\n",
    "    steps_per_epoch=len(train_generator),\n",
    "    validation_data=validation_generator,\n",
    "    validation_steps=len(validation_generator)\n",
    ")"
   ]
  },
  {
   "cell_type": "code",
   "execution_count": null,
   "id": "3b12aab3",
   "metadata": {},
   "outputs": [],
   "source": [
    "training_accuracy = history.history['accuracy']\n",
    "validation_accuracy = history.history['val_accuracy']\n",
    "\n",
    "\n",
    "epochs = range(1, len(training_accuracy) + 1)\n",
    "\n",
    "\n",
    "plt.figure(figsize=(5,5 ))\n",
    "plt.plot(epochs, training_accuracy, label='Training Accuracy')\n",
    "plt.plot(epochs, validation_accuracy, label='Validation Accuracy')\n",
    "plt.title('Training and Validation Accuracy')\n",
    "plt.xlabel('Epochs')\n",
    "plt.ylabel('Accuracy')\n",
    "plt.legend()\n",
    "plt.show()\n",
    "\n",
    "\n",
    "\n",
    "\n",
    "\n"
   ]
  },
  {
   "cell_type": "code",
   "execution_count": null,
   "id": "7a4a3d36",
   "metadata": {},
   "outputs": [],
   "source": [
    "plt.title(\"Loss\")\n",
    "plt.plot(history.history[\"loss\"])\n",
    "plt.show()"
   ]
  },
  {
   "cell_type": "code",
   "execution_count": null,
   "id": "24dd3403",
   "metadata": {},
   "outputs": [],
   "source": [
    "model.save(\"VGGClassification.h5\")"
   ]
  },
  {
   "cell_type": "code",
   "execution_count": null,
   "id": "b3086c63",
   "metadata": {},
   "outputs": [],
   "source": []
  }
 ],
 "metadata": {
  "kernelspec": {
   "display_name": "Python 3 (ipykernel)",
   "language": "python",
   "name": "python3"
  },
  "language_info": {
   "codemirror_mode": {
    "name": "ipython",
    "version": 3
   },
   "file_extension": ".py",
   "mimetype": "text/x-python",
   "name": "python",
   "nbconvert_exporter": "python",
   "pygments_lexer": "ipython3",
   "version": "3.10.9"
  }
 },
 "nbformat": 4,
 "nbformat_minor": 5
}
